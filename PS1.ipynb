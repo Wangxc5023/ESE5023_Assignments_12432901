{
 "cells": [
  {
   "cell_type": "code",
   "execution_count": 1,
   "id": "40762c79-6af7-41ee-acbe-c10a7490f275",
   "metadata": {},
   "outputs": [
    {
     "name": "stdout",
     "output_type": "stream",
     "text": [
      "5\n"
     ]
    }
   ],
   "source": [
    "#1\n",
    "#define a finction.Xinyi Wu explained to me what is asked in problem\n",
    "def custom_operation(x,y,z):\n",
    "     return x + y - 10 * z\n",
    "\n",
    "def print_values(a,b,c):\n",
    "    if a > b:\n",
    "        if b > c:\n",
    "# if a>b>c,output(a,b,c)\n",
    "            result = custom_operation(a,b,c)\n",
    "        else:\n",
    "            if a > c:\n",
    "# if a>c>=b，output(a,c,b)\n",
    "                result = custom_operation(a,c,b)\n",
    "            else:\n",
    "# if c>=a>b,output(c,a,b)\n",
    "                result = custom_operation(c,a,b)\n",
    "# b>=a\n",
    "    else:\n",
    "        if b > c:\n",
    "# if b>a,b>c\n",
    "            result = custom_operation()\n",
    "        else:\n",
    "            result = custom_operation(c,b,a)\n",
    "    print(result)\n",
    "    \n",
    "print_values(10,5,1)"
   ]
  },
  {
   "cell_type": "code",
   "execution_count": 3,
   "id": "45f0a793-1484-460c-8a94-12f42b99fd90",
   "metadata": {},
   "outputs": [
    {
     "name": "stdout",
     "output_type": "stream",
     "text": [
      "[7, 15, 21, 23, 25]\n"
     ]
    }
   ],
   "source": [
    "# 2\n",
    "#import math module,use the ceil function\n",
    "import math\n",
    "# def a function\n",
    "def F(x): \n",
    "# if x=1,F(x)=1\n",
    "    if x == 1:\n",
    "        return 1\n",
    "# if x≠1,return F(x)\n",
    "    else:\n",
    "        return F(math.ceil(x/3))+2*x\n",
    "# creat a list\n",
    "lst = [3,5,7,8,9]\n",
    "# collect \n",
    "result_lst = []\n",
    "for x in lst:\n",
    "    result_lst.append(F(x))\n",
    "print(result_lst)"
   ]
  },
  {
   "cell_type": "code",
   "execution_count": 7,
   "id": "6c9f2103-624a-4b83-81c9-38d1e2025fa0",
   "metadata": {},
   "outputs": [
    {
     "name": "stdout",
     "output_type": "stream",
     "text": [
      "1\n"
     ]
    }
   ],
   "source": [
    "#3.1\n",
    "def Find_number_of_ways(x):\n",
    "    \n",
    "    counts=0\n",
    "\n",
    "    for a in range(1,7):\n",
    "        for b in range(1,7):\n",
    "            for c in range(1,7):\n",
    "                for d in range(1,7):\n",
    "                    for e in range(1,7):\n",
    "                        for f in range(1,7):\n",
    "                            for g in range(1,7):\n",
    "                                for h in range(1,7):\n",
    "                                    for i in range(1,7):\n",
    "                                        for j in range(1,7):\n",
    "                                            sum=a+b+c+d+e+f+g+h+i+j\n",
    "                                            if sum==x:\n",
    "                                                counts += 1\n",
    "    return counts\n",
    "x=11\n",
    "\n",
    "C=Find_number_of_ways(x)\n",
    "print(C)"
   ]
  },
  {
   "cell_type": "code",
   "execution_count": 14,
   "id": "c026a15c-374e-45a6-a088-4244d39c6c8f",
   "metadata": {},
   "outputs": [
    {
     "name": "stdout",
     "output_type": "stream",
     "text": [
      "[1, 10, 55, 220, 715, 2002, 4995, 11340, 23760, 46420, 85228, 147940, 243925, 383470, 576565, 831204, 1151370, 1535040, 1972630, 2446300, 2930455, 3393610, 3801535, 4121260, 4325310, 4395456, 4325310, 4121260, 3801535, 3393610, 2930455, 2446300, 1972630, 1535040, 1151370, 831204, 576565, 383470, 243925, 147940, 85228, 46420, 23760, 11340, 4995, 2002, 715, 220, 55, 10, 1]\n",
      "4395456\n"
     ]
    }
   ],
   "source": [
    "#3.2\n",
    "def Find_number_of_ways(x):\n",
    "    \n",
    "    counts=0\n",
    "\n",
    "    for a in range(1,7):\n",
    "        for b in range(1,7):\n",
    "            for c in range(1,7):\n",
    "                for d in range(1,7):\n",
    "                    for e in range(1,7):\n",
    "                        for f in range(1,7):\n",
    "                            for g in range(1,7):\n",
    "                                for h in range(1,7):\n",
    "                                    for i in range(1,7):\n",
    "                                        for j in range(1,7):\n",
    "                                            sum=a+b+c+d+e+f+g+h+i+j\n",
    "                                            if sum==x:\n",
    "                                                counts += 1\n",
    "    return counts\n",
    "\n",
    "Number_of_ways=[]\n",
    "\n",
    "for x in range(10,61):\n",
    "    Number_of_ways.append(Find_number_of_ways(x))\n",
    "print(Number_of_ways)\n",
    "\n",
    "max_Number_of_ways=max(Number_of_ways)\n",
    "print(max_Number_of_ways)"
   ]
  },
  {
   "cell_type": "code",
   "execution_count": 9,
   "id": "8b0e47a9-5f76-44b3-83ef-3c2d434088b3",
   "metadata": {},
   "outputs": [
    {
     "name": "stdout",
     "output_type": "stream",
     "text": [
      "[1, 1, 9]\n"
     ]
    }
   ],
   "source": [
    "#4.1\n",
    "#导入random模版\n",
    "import random\n",
    "#定义一个随机函数\n",
    "def random_integer(N):\n",
    "    #制造一个集合进行收集\n",
    "    random_int=[]\n",
    "    #在1到10的范围内取值，并且包含1和10\n",
    "    for _ in range(N):\n",
    "        \n",
    "        number=random.randint(1,10)\n",
    "        #将生成的数值添加到random_int这个列表的末尾\n",
    "        random_int.append(number)\n",
    "    #放入集合中收集起来\n",
    "    return random_int\n",
    "#旷金佩explained to me what is asked in problem \n",
    "N=3\n",
    "H=random_integer(N)\n",
    "print(H)"
   ]
  },
  {
   "cell_type": "code",
   "execution_count": 1,
   "id": "788cd591-3c23-4cf1-91a7-88eeeb5a8d28",
   "metadata": {},
   "outputs": [
    {
     "name": "stdout",
     "output_type": "stream",
     "text": [
      "14.0\n"
     ]
    }
   ],
   "source": [
    "#4.2\n",
    "from itertools import combinations\n",
    "\n",
    "def sum_averages(lst):\n",
    "    total_sum=0.0\n",
    "    counts=0\n",
    "    n=len(lst)\n",
    "    for i in range (1,1+n):\n",
    "         for subset in combinations (lst , i):\n",
    "             average=sum(subset)/len(subset)\n",
    "             total_sum+=average\n",
    "             counts+=1\n",
    "    return total_sum\n",
    "\n",
    "result=sum_averages([1,2,3])\n",
    "print(result)"
   ]
  },
  {
   "cell_type": "code",
   "execution_count": 35,
   "id": "f39fc335-6dac-46b8-bc98-4fa76fd58a15",
   "metadata": {},
   "outputs": [
    {
     "ename": "TypeError",
     "evalue": "'int' object is not callable",
     "output_type": "error",
     "traceback": [
      "\u001b[1;31m---------------------------------------------------------------------------\u001b[0m",
      "\u001b[1;31mTypeError\u001b[0m                                 Traceback (most recent call last)",
      "Cell \u001b[1;32mIn[35], line 25\u001b[0m\n\u001b[0;32m     21\u001b[0m     \u001b[38;5;28;01mimport\u001b[39;00m \u001b[38;5;21;01mrandom\u001b[39;00m\n\u001b[0;32m     23\u001b[0m     array\u001b[38;5;241m=\u001b[39m[random\u001b[38;5;241m.\u001b[39mrandint(\u001b[38;5;241m0\u001b[39m,\u001b[38;5;241m10\u001b[39m) \u001b[38;5;28;01mfor\u001b[39;00m _ \u001b[38;5;129;01min\u001b[39;00m \u001b[38;5;28mrange\u001b[39m (N)]\n\u001b[1;32m---> 25\u001b[0m     Total_sum_averages\u001b[38;5;241m.\u001b[39mappend(sum_averages(array))\n\u001b[0;32m     27\u001b[0m \u001b[38;5;66;03m#绘制图\u001b[39;00m\n\u001b[0;32m     28\u001b[0m plt\u001b[38;5;241m.\u001b[39mplot (Total_sum_averages)\n",
      "Cell \u001b[1;32mIn[35], line 9\u001b[0m, in \u001b[0;36msum_averages\u001b[1;34m(lst)\u001b[0m\n\u001b[0;32m      7\u001b[0m \u001b[38;5;28;01mfor\u001b[39;00m i \u001b[38;5;129;01min\u001b[39;00m \u001b[38;5;28mrange\u001b[39m (\u001b[38;5;241m1\u001b[39m,\u001b[38;5;241m1\u001b[39m\u001b[38;5;241m+\u001b[39mn):\n\u001b[0;32m      8\u001b[0m      \u001b[38;5;28;01mfor\u001b[39;00m subset \u001b[38;5;129;01min\u001b[39;00m combinations (lst , i):\n\u001b[1;32m----> 9\u001b[0m          average\u001b[38;5;241m=\u001b[39m\u001b[38;5;28msum\u001b[39m(subset)\u001b[38;5;241m/\u001b[39m\u001b[38;5;28mlen\u001b[39m(subset)\n\u001b[0;32m     10\u001b[0m          total_sum \u001b[38;5;241m+\u001b[39m\u001b[38;5;241m=\u001b[39m average\n\u001b[0;32m     11\u001b[0m          counts\u001b[38;5;241m+\u001b[39m\u001b[38;5;241m=\u001b[39m\u001b[38;5;241m1\u001b[39m\n",
      "\u001b[1;31mTypeError\u001b[0m: 'int' object is not callable"
     ]
    }
   ],
   "source": [
    "#4.3\n",
    "#导入matplotlib模版进行绘图\n",
    "\n",
    "\n",
    "from itertools import combinations\n",
    "\n",
    "def sum_averages(lst):\n",
    "    total_sum=0.0\n",
    "    counts=0\n",
    "    n=len(lst)\n",
    "    for i in range (1,1+n):\n",
    "         for subset in combinations (lst , i):\n",
    "             \n",
    "             average=sum(subset)/len(subset)\n",
    "             \n",
    "             total_sum += average\n",
    "             \n",
    "             counts+=1\n",
    "             \n",
    "    return total_sum\n",
    "\n",
    "\n",
    "#导入matplotlib模块\n",
    "import matplotlib.pyplot as plt\n",
    "\n",
    "Total_sum_averages=[]\n",
    "\n",
    "for N in range (1,101):\n",
    "    #导入random模块\n",
    "    import random\n",
    "    \n",
    "    array=[random.randint(0,10) for _ in range (N)]\n",
    "    \n",
    "    Total_sum_averages.append(sum_averages(array))\n",
    "    \n",
    "#绘制图\n",
    "plt.plot (Total_sum_averages)\n",
    "#x轴\n",
    "plt.xlabel('N')\n",
    "#y轴\n",
    "plt.ylabel('sum of averages')\n",
    "#图像标题\n",
    "plt.title('sum of averages of all subsets for N=1 to 100')\n",
    "\n",
    "plt.show()"
   ]
  },
  {
   "cell_type": "code",
   "execution_count": 39,
   "id": "65e67c2a-f7e0-4d59-a676-793ab7e34f42",
   "metadata": {},
   "outputs": [
    {
     "name": "stdout",
     "output_type": "stream",
     "text": [
      "[[1 0 0 0 0]\n",
      " [0 1 0 0 0]\n",
      " [0 0 1 1 0]\n",
      " [0 1 1 1 0]\n",
      " [0 0 0 0 1]]\n"
     ]
    }
   ],
   "source": [
    "#5.1\n",
    "#导入numpy模块\n",
    "import numpy as np\n",
    "\n",
    "def creat_matrix(N,M):\n",
    "    \n",
    "    matrix = np.zeros((N , M) , dtype=int)\n",
    "    \n",
    "    matrix[0,0] = 1\n",
    "    \n",
    "    matrix[N-1,M-1] = 1\n",
    "    \n",
    "    for i in range(1,N-1):\n",
    "        for j in range (1,M-1):\n",
    "            matrix[i,j] = np.random.randint(0,2)\n",
    "    return matrix\n",
    "\n",
    "N=5\n",
    "M=5\n",
    "matrix=creat_matrix(N,M)\n",
    "print(matrix)"
   ]
  },
  {
   "cell_type": "code",
   "execution_count": 44,
   "id": "93ace240-0964-4b8c-a412-9b2405831e24",
   "metadata": {},
   "outputs": [
    {
     "name": "stdout",
     "output_type": "stream",
     "text": [
      "4\n"
     ]
    }
   ],
   "source": [
    "#5.2\n",
    "def Count_path(grid):\n",
    "    #如果grid是是空的或者不是列表，将没有网格可以计算路径;或者grid的一行或者第一个元素为0，也没有计算路径。\n",
    "    if not grid or not grid[0]:\n",
    "        return 0\n",
    "    #计算grid的行数\n",
    "    rows=len(grid)\n",
    "    #grid[0]表示grid的第一行，计算第一行的个数，即计算grid的列数\n",
    "    cols=len(grid[0])\n",
    "    #如果grid的第一行第一个元素为0或者grid最后一行最后一个元素为0，即起点与终点为0，那么返回0\n",
    "    if grid[0][0]==0 or grid[rows-1][cols-1]==0:\n",
    "        return 0\n",
    "    #初始化矩阵，创造一个全为0，数量为cols的列表作为一行，循环rows次，就生成rows行\n",
    "    matrix=[[0]*cols for _ in range(rows)]\n",
    "    #定义这个矩阵的起点为1\n",
    "    matrix[0][0]=1\n",
    "    \n",
    "    for i in range(rows):\n",
    "        for j in range(cols):\n",
    "           if  grid[i][j] == 1:\n",
    "               #如果当前单元格不在第一行，即可以从上方的单元格像下到达该单元格\n",
    "               if i >0 :\n",
    "                   #那么当前单元格的路径数量就是上方单元格的路径数量+1\n",
    "                   matrix[i][j]+=matrix[i-1][j]\n",
    "               #如果可以从左边到达，即左边的单元格向右移动到达该单元格\n",
    "               if j >0:\n",
    "                   matrix[i][j]+=matrix[i][j-1]\n",
    "    #最终到达右下角单元格的路径数量\n",
    "    return matrix[rows-1][cols-1]\n",
    " \n",
    "grid=[[1,1,0],\n",
    "      [1,1,1],\n",
    "      [0,1,1]\n",
    "      ]\n",
    "print(Count_path(grid))"
   ]
  },
  {
   "cell_type": "code",
   "execution_count": 47,
   "id": "b3333cc6-9da3-447f-a285-e85ecc813f74",
   "metadata": {},
   "outputs": [
    {
     "name": "stdout",
     "output_type": "stream",
     "text": [
      "0.018\n"
     ]
    }
   ],
   "source": [
    "#5.3\n",
    "import numpy as np\n",
    "#创建一个N×M的矩阵\n",
    "def creat_matrix(N, M):\n",
    "    #matrix在左上角与右下角生成1.其他地方随机生成0或1\n",
    "    matrix = np.random.randint(0, 2, size=(N, M))\n",
    "    \n",
    "    matrix[0][0] = 1\n",
    "    matrix[N-1][M-1] = 1\n",
    "    return matrix\n",
    "#计算路径\n",
    "def count_paths(matrix):\n",
    "    #找出N和M值\n",
    "    N = len(matrix)\n",
    "    M = len(matrix[0])\n",
    "#创建一个dp表来存储路径数,在表中的都是整数\n",
    "    dp = np.zeros((N,M),dtype = int)\n",
    "    #如果matrix的左上角单元格数值为1，则证明可行，那么动态规划表左上角单元格为1，否则为0\n",
    "    if matrix[0][0] == 1:\n",
    "        dp[0][0] = 1\n",
    "    else:\n",
    "        dp[0][0]=0\n",
    "    #对dp动态规划表进行计算\n",
    "    for i in range(N):\n",
    "        for j in range(M):\n",
    "            if matrix[i][j] == 1:\n",
    "                if i > 0:\n",
    "                    dp[i][j] += dp[i-1][j]\n",
    "                if j > 0:\n",
    "                    dp[i][j] += dp[i][j-i]\n",
    "    # 返回右下角的总路径数              \n",
    "    return dp[N-1][M-1]\n",
    "#计算路径数的平均数\n",
    "def average_paths(N, M, lops):\n",
    "    total_paths = 0\n",
    "    for _ in range (lops):\n",
    "        matrix = creat_matrix(N, M)\n",
    "        total_paths += count_paths(matrix)\n",
    "    return total_paths/lops\n",
    "\n",
    "N=10\n",
    "M=8\n",
    "lops=1000\n",
    "aver_paths = average_paths(N, M, lops)\n",
    "print(aver_paths)"
   ]
  },
  {
   "cell_type": "code",
   "execution_count": null,
   "id": "89251ec5-4e09-4547-9bed-cf162f247be7",
   "metadata": {},
   "outputs": [],
   "source": []
  }
 ],
 "metadata": {
  "kernelspec": {
   "display_name": "Python 3 (ipykernel)",
   "language": "python",
   "name": "python3"
  },
  "language_info": {
   "codemirror_mode": {
    "name": "ipython",
    "version": 3
   },
   "file_extension": ".py",
   "mimetype": "text/x-python",
   "name": "python",
   "nbconvert_exporter": "python",
   "pygments_lexer": "ipython3",
   "version": "3.12.4"
  }
 },
 "nbformat": 4,
 "nbformat_minor": 5
}
